{
 "cells": [
  {
   "cell_type": "code",
   "execution_count": 1,
   "id": "ee736796-e303-4c02-8bd3-68b19095e897",
   "metadata": {},
   "outputs": [
    {
     "name": "stdout",
     "output_type": "stream",
     "text": [
      "1945-08-17 00:00:00 selisih 28779 hari\n",
      "1785-11-11 00:00:00 selisih 87131 hari\n",
      "1783-06-08 00:00:00 selisih 88018 hari\n",
      "1889-05-02 00:00:00 selisih 49339 hari\n"
     ]
    }
   ],
   "source": [
    "import re\n",
    "import datetime\n",
    "sekarang = datetime.datetime.now()\n",
    "kalimat = \"Pada tanggal 1945-08-17 Indonesia merdeka. Indonesia memiliki beberapa pahlawan nasional, seperti Pangeran Diponegoro (TL: 1785-11-11), Pattimura (TL: 1783-06-08) dan Ki Hajar Dewantara (1889-05-02).\"\n",
    "a = re.sub(\"-\", \"/\", kalimat)\n",
    "b = re.findall(r\"\\d+/\\d+/\\d+\", a)\n",
    "from datetime import datetime\n",
    "for tanggal in b:\n",
    "    tanggal = datetime.strptime(tanggal, \"%Y/%m/%d\")\n",
    "    hasil = sekarang - tanggal\n",
    "    print(f\"{tanggal} selisih {hasil.days} hari\")\n"
   ]
  },
  {
   "cell_type": "code",
   "execution_count": 2,
   "id": "cc676ab3-bf52-4fcf-9d6d-c5f9f039090e",
   "metadata": {},
   "outputs": [
    {
     "name": "stdin",
     "output_type": "stream",
     "text": [
      "Masukkan file:  email.txt\n"
     ]
    },
    {
     "name": "stdout",
     "output_type": "stream",
     "text": [
      "anton@mail.com username: anton, password: f0sGZWKU\n",
      "budi@gmail.co.id username: budi, password: jTB1qqTI\n",
      "slamet@getnada.com username: slamet, password: 5dz40AQY\n",
      "matahari@tokopedia.com username: matahari, password: RCibaFQ1\n"
     ]
    }
   ],
   "source": [
    "import re\n",
    "import random\n",
    "import string\n",
    "\n",
    "def password(n=8):\n",
    "    source = string.ascii_letters + string.digits\n",
    "    result_str = ''.join((random.choice(source) for i in range(n)))\n",
    "    return result_str\n",
    "\n",
    "nama = \"\"\n",
    "email = \"\"\n",
    "\n",
    "file = input(\"Masukkan file: \")\n",
    "with open(file, \"r\") as fhandle:\n",
    "    for baris in fhandle:\n",
    "        nama = re.split(\"@\", baris)[0]\n",
    "        email = re.findall(r\"\\S+@\\S+\", baris)\n",
    "        if email:  # Memastikan bahwa email ditemukan sebelum mencetak\n",
    "            print(f\"{email[0]} username: {nama}, password: {password()}\")\n"
   ]
  },
  {
   "cell_type": "code",
   "execution_count": null,
   "id": "0ff8d33d-993b-4a99-be00-d1ff672920e4",
   "metadata": {},
   "outputs": [],
   "source": []
  }
 ],
 "metadata": {
  "kernelspec": {
   "display_name": "Python 3 (ipykernel)",
   "language": "python",
   "name": "python3"
  },
  "language_info": {
   "codemirror_mode": {
    "name": "ipython",
    "version": 3
   },
   "file_extension": ".py",
   "mimetype": "text/x-python",
   "name": "python",
   "nbconvert_exporter": "python",
   "pygments_lexer": "ipython3",
   "version": "3.11.7"
  }
 },
 "nbformat": 4,
 "nbformat_minor": 5
}
